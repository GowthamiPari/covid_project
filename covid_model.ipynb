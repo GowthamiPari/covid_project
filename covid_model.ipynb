{
  "nbformat": 4,
  "nbformat_minor": 0,
  "metadata": {
    "colab": {
      "name": "covid_model.ipynb",
      "provenance": []
    },
    "kernelspec": {
      "name": "python3",
      "display_name": "Python 3"
    },
    "language_info": {
      "name": "python"
    }
  },
  "cells": [
    {
      "cell_type": "code",
      "metadata": {
        "id": "KQqnur8sYNGL"
      },
      "source": [
        "#Importing the libraries\n",
        "import os\n",
        "import zipfile"
      ],
      "execution_count": 2,
      "outputs": []
    },
    {
      "cell_type": "code",
      "source": [
        "from google.colab import drive\n",
        "drive.mount('/content/drive')"
      ],
      "metadata": {
        "colab": {
          "base_uri": "https://localhost:8080/"
        },
        "id": "zR2fuuLPDNZB",
        "outputId": "e42c81ac-1331-4f5f-8671-5e7670f97af8"
      },
      "execution_count": 3,
      "outputs": [
        {
          "output_type": "stream",
          "name": "stdout",
          "text": [
            "Mounted at /content/drive\n"
          ]
        }
      ]
    },
    {
      "cell_type": "code",
      "metadata": {
        "id": "kO_FSuARYXtO"
      },
      "source": [
        "df='/content/drive/MyDrive/Covid_Dataset"
      ],
      "execution_count": null,
      "outputs": []
    },
    {
      "cell_type": "code",
      "metadata": {
        "id": "x07omPWUj0-j"
      },
      "source": [
        "df1=zipfile.ZipFile(df, 'r')"
      ],
      "execution_count": null,
      "outputs": []
    },
    {
      "cell_type": "code",
      "metadata": {
        "id": "fJX_oxnOj5Ec"
      },
      "source": [
        "#Extracting the zipfile\n",
        "df1.extractall('/content/drive/MyDrive/Covid_Dataset')"
      ],
      "execution_count": null,
      "outputs": []
    },
    {
      "cell_type": "code",
      "source": [
        "os.listdir('/content/drive/MyDrive/Covid_Dataset/Covid_Dataset')"
      ],
      "metadata": {
        "colab": {
          "base_uri": "https://localhost:8080/"
        },
        "id": "OZS4I5-PDj2K",
        "outputId": "7c3887d1-9227-4b7c-9fde-7bc4b4a5b8f9"
      },
      "execution_count": 4,
      "outputs": [
        {
          "output_type": "execute_result",
          "data": {
            "text/plain": [
              "['Covid', 'Normal']"
            ]
          },
          "metadata": {},
          "execution_count": 4
        }
      ]
    },
    {
      "cell_type": "code",
      "metadata": {
        "id": "XuzFEktlkWev"
      },
      "source": [
        "#Concatnates various path components with exactly one directory and it creates a final path for a file or folder\n",
        "train_covid_dir=os.path.join('/content/drive/MyDrive/Covid_Dataset/Covid_Dataset/Covid')"
      ],
      "execution_count": 5,
      "outputs": []
    },
    {
      "cell_type": "code",
      "metadata": {
        "id": "kLduul9jmR4N"
      },
      "source": [
        "#Concatnates various path components with exactly one directory and it creates a final path for a file or folder\n",
        "train_normal_dir=os.path.join('/content/drive/MyDrive/Covid_Dataset/Covid_Dataset/Normal')"
      ],
      "execution_count": 6,
      "outputs": []
    },
    {
      "cell_type": "code",
      "metadata": {
        "colab": {
          "base_uri": "https://localhost:8080/"
        },
        "id": "XAI1qSsxmkjx",
        "outputId": "98368335-3c43-4b19-dc36-802fdeaed3ba"
      },
      "source": [
        "#Dispaying whether images are present or not\n",
        "train_covid_names=os.listdir(train_covid_dir)\n",
        "print(train_covid_names[:15])"
      ],
      "execution_count": 7,
      "outputs": [
        {
          "output_type": "stream",
          "name": "stdout",
          "text": [
            "['COVID-1.png', 'COVID-10.png', 'COVID-100.png', 'COVID-101.png', 'COVID-102.png', 'COVID-103.png', 'COVID-104.png', 'COVID-105.png', 'COVID-106.png', 'COVID-107.png', 'COVID-108.png', 'COVID-109.png', 'COVID-11.png', 'COVID-110.png', 'COVID-111.png']\n"
          ]
        }
      ]
    },
    {
      "cell_type": "code",
      "metadata": {
        "id": "pdZdPdffmuG_",
        "colab": {
          "base_uri": "https://localhost:8080/"
        },
        "outputId": "f8920a23-480c-41fa-d8b8-3927d30b56b1"
      },
      "source": [
        "#Dispaying whether images are present or not\n",
        "train_normal_names=os.listdir(train_normal_dir)\n",
        "print(train_normal_names[:15])"
      ],
      "execution_count": 8,
      "outputs": [
        {
          "output_type": "stream",
          "name": "stdout",
          "text": [
            "['Normal-1.png', 'Normal-10.png', 'Normal-100.png', 'Normal-101.png', 'Normal-102.png', 'Normal-103.png', 'Normal-104.png', 'Normal-105.png', 'Normal-106.png', 'Normal-107.png', 'Normal-108.png', 'Normal-109.png', 'Normal-11.png', 'Normal-110.png', 'Normal-111.png']\n"
          ]
        }
      ]
    },
    {
      "cell_type": "code",
      "metadata": {
        "id": "Y_qdnKYFnivB",
        "colab": {
          "base_uri": "https://localhost:8080/"
        },
        "outputId": "045cf54b-7e4e-485f-a03e-8017e1066ec2"
      },
      "source": [
        "#Displaying total length of training and testing images\n",
        "print('Total training mask images:',len(os.listdir(train_covid_dir)))\n",
        "print('Total training non-mask images:',len(os.listdir(train_normal_dir)))\n"
      ],
      "execution_count": 9,
      "outputs": [
        {
          "output_type": "stream",
          "name": "stdout",
          "text": [
            "Total training mask images: 600\n",
            "Total training non-mask images: 600\n"
          ]
        }
      ]
    },
    {
      "cell_type": "code",
      "metadata": {
        "id": "JHHnx9YbokI-"
      },
      "source": [
        "%matplotlib inline\n",
        "import matplotlib.pyplot as plt\n",
        "import matplotlib.image as mpimg\n"
      ],
      "execution_count": 5,
      "outputs": []
    },
    {
      "cell_type": "code",
      "metadata": {
        "id": "ylc4ojr7o8LK"
      },
      "source": [
        "#Parameters for our graph; we'll output images in a 4*4 configuration\n",
        "nrows=4\n",
        "ncols=4"
      ],
      "execution_count": 11,
      "outputs": []
    },
    {
      "cell_type": "code",
      "metadata": {
        "id": "xKNq6ZPcs82W"
      },
      "source": [
        "#Importing the required libraries\n",
        "import tensorflow as tf"
      ],
      "execution_count": 6,
      "outputs": []
    },
    {
      "cell_type": "code",
      "metadata": {
        "id": "ivEa3MDxtFY9"
      },
      "source": [
        "#Importing the required libraries\n",
        "from keras.models import Sequential"
      ],
      "execution_count": 7,
      "outputs": []
    },
    {
      "cell_type": "code",
      "metadata": {
        "id": "Uln7m866isRa"
      },
      "source": [
        "#Importing the required libraries\n",
        "from keras.layers import Dense, Conv2D, Dropout, Flatten, MaxPooling2D"
      ],
      "execution_count": 8,
      "outputs": []
    },
    {
      "cell_type": "code",
      "metadata": {
        "id": "jRf0mqgCtZOW"
      },
      "source": [
        "model = tf.keras.models.Sequential([\n",
        "                                    #Note that input shape is the desired size of the image 300*300 with 3 byes of color\n",
        "                                    #This is the first convolution\n",
        "                                    tf.keras.layers.Conv2D(16, (3,3), activation='relu',input_shape=(300,300,3)),\n",
        "                                    tf.keras.layers.MaxPooling2D(2,2),\n",
        "                                    #This is the second convolution\n",
        "                                    tf.keras.layers.Conv2D(32,(3,3),activation='relu'),\n",
        "                                    tf.keras.layers.MaxPooling2D(2,2),\n",
        "                                    #This is the third covolution\n",
        "                                    tf.keras.layers.Conv2D(64,(3,3),activation='relu'),\n",
        "                                    tf.keras.layers.MaxPooling2D(2,2),\n",
        "                                    #This is the fourth convolution\n",
        "                                    tf.keras.layers.Conv2D(64,(3,3),activation='relu'),\n",
        "                                    tf.keras.layers.MaxPooling2D(2,2),\n",
        "                                    #This is the fifth convolution\n",
        "                                    tf.keras.layers.Conv2D(64,(3,3),activation='relu'),\n",
        "                                    tf.keras.layers.MaxPooling2D(2,2),\n",
        "                                    #Flatten the resukts to feed into a DNN\n",
        "                                    tf.keras.layers.Flatten(),\n",
        "                                    #512 neuron hidden layer\n",
        "                                    tf.keras.layers.Dense(512, activation='relu'),\n",
        "                                    #Only 1 output neuron. It will contain a value from 0-1 \n",
        "                                    tf.keras.layers.Dense(1, activation='sigmoid')\n",
        "])"
      ],
      "execution_count": 9,
      "outputs": []
    },
    {
      "cell_type": "code",
      "metadata": {
        "colab": {
          "base_uri": "https://localhost:8080/"
        },
        "id": "cnU3bcLLvQRx",
        "outputId": "cea24202-c8db-4bb5-d3f5-c83746cd14d8"
      },
      "source": [
        "#Displaying the summary of the model\n",
        "model.summary()"
      ],
      "execution_count": 10,
      "outputs": [
        {
          "output_type": "stream",
          "name": "stdout",
          "text": [
            "Model: \"sequential\"\n",
            "_________________________________________________________________\n",
            " Layer (type)                Output Shape              Param #   \n",
            "=================================================================\n",
            " conv2d (Conv2D)             (None, 298, 298, 16)      448       \n",
            "                                                                 \n",
            " max_pooling2d (MaxPooling2D  (None, 149, 149, 16)     0         \n",
            " )                                                               \n",
            "                                                                 \n",
            " conv2d_1 (Conv2D)           (None, 147, 147, 32)      4640      \n",
            "                                                                 \n",
            " max_pooling2d_1 (MaxPooling  (None, 73, 73, 32)       0         \n",
            " 2D)                                                             \n",
            "                                                                 \n",
            " conv2d_2 (Conv2D)           (None, 71, 71, 64)        18496     \n",
            "                                                                 \n",
            " max_pooling2d_2 (MaxPooling  (None, 35, 35, 64)       0         \n",
            " 2D)                                                             \n",
            "                                                                 \n",
            " conv2d_3 (Conv2D)           (None, 33, 33, 64)        36928     \n",
            "                                                                 \n",
            " max_pooling2d_3 (MaxPooling  (None, 16, 16, 64)       0         \n",
            " 2D)                                                             \n",
            "                                                                 \n",
            " conv2d_4 (Conv2D)           (None, 14, 14, 64)        36928     \n",
            "                                                                 \n",
            " max_pooling2d_4 (MaxPooling  (None, 7, 7, 64)         0         \n",
            " 2D)                                                             \n",
            "                                                                 \n",
            " flatten (Flatten)           (None, 3136)              0         \n",
            "                                                                 \n",
            " dense (Dense)               (None, 512)               1606144   \n",
            "                                                                 \n",
            " dense_1 (Dense)             (None, 1)                 513       \n",
            "                                                                 \n",
            "=================================================================\n",
            "Total params: 1,704,097\n",
            "Trainable params: 1,704,097\n",
            "Non-trainable params: 0\n",
            "_________________________________________________________________\n"
          ]
        }
      ]
    },
    {
      "cell_type": "code",
      "metadata": {
        "id": "PxPlpBa3vUfR"
      },
      "source": [
        "from tensorflow.keras.optimizers import RMSprop"
      ],
      "execution_count": 11,
      "outputs": []
    },
    {
      "cell_type": "code",
      "metadata": {
        "id": "fA_wPGIwvesI",
        "colab": {
          "base_uri": "https://localhost:8080/"
        },
        "outputId": "4ab84a9e-7a77-45b7-f7ce-63c2ee75ab6a"
      },
      "source": [
        "#Implementing the weights and loss model\n",
        "model.compile(loss='binary_crossentropy',\n",
        "              optimizer=RMSprop(lr=0.001),\n",
        "              metrics=['accuracy'])"
      ],
      "execution_count": 12,
      "outputs": [
        {
          "output_type": "stream",
          "name": "stderr",
          "text": [
            "/usr/local/lib/python3.7/dist-packages/keras/optimizer_v2/rmsprop.py:130: UserWarning: The `lr` argument is deprecated, use `learning_rate` instead.\n",
            "  super(RMSprop, self).__init__(name, **kwargs)\n"
          ]
        }
      ]
    },
    {
      "cell_type": "code",
      "metadata": {
        "id": "EqkdcO5PvqVc"
      },
      "source": [
        "from tensorflow.keras.preprocessing.image import ImageDataGenerator"
      ],
      "execution_count": 13,
      "outputs": []
    },
    {
      "cell_type": "code",
      "metadata": {
        "id": "8qoQw0vyvxkl"
      },
      "source": [
        "#Image dataenerator shifting\n",
        "train_datagen=ImageDataGenerator(rescale=1/255)"
      ],
      "execution_count": 14,
      "outputs": []
    },
    {
      "cell_type": "code",
      "metadata": {
        "colab": {
          "base_uri": "https://localhost:8080/"
        },
        "id": "ZtP-Xadbv-I2",
        "outputId": "4c104362-5259-4127-ad3d-f4a745de05ec"
      },
      "source": [
        "train_generator=train_datagen.flow_from_directory(\n",
        "    '/content/drive/MyDrive/Covid_Dataset/Covid_Dataset',                    #This is a source directory for training images\n",
        "    target_size=(300,300),                                #All images will be resized to 150*150\n",
        "    batch_size=32,\n",
        "    #Since we use binary_crossentropy we use bnary losses\n",
        "    class_mode='binary'\n",
        ")"
      ],
      "execution_count": 15,
      "outputs": [
        {
          "output_type": "stream",
          "name": "stdout",
          "text": [
            "Found 1200 images belonging to 2 classes.\n"
          ]
        }
      ]
    },
    {
      "cell_type": "code",
      "metadata": {
        "colab": {
          "base_uri": "https://localhost:8080/"
        },
        "id": "6DSNY2BTwrvz",
        "outputId": "d2856ec8-f5dc-4b17-bbf6-82287b740034"
      },
      "source": [
        "history=model.fit_generator(train_generator,steps_per_epoch=8,epochs=15)"
      ],
      "execution_count": 64,
      "outputs": [
        {
          "output_type": "stream",
          "name": "stderr",
          "text": [
            "/usr/local/lib/python3.7/dist-packages/ipykernel_launcher.py:1: UserWarning: `Model.fit_generator` is deprecated and will be removed in a future version. Please use `Model.fit`, which supports generators.\n",
            "  \"\"\"Entry point for launching an IPython kernel.\n"
          ]
        },
        {
          "output_type": "stream",
          "name": "stdout",
          "text": [
            "Epoch 1/15\n",
            "8/8 [==============================] - 20s 2s/step - loss: 0.1507 - accuracy: 0.9417\n",
            "Epoch 2/15\n",
            "8/8 [==============================] - 21s 3s/step - loss: 0.1371 - accuracy: 0.9453\n",
            "Epoch 3/15\n",
            "8/8 [==============================] - 21s 3s/step - loss: 0.1553 - accuracy: 0.9258\n",
            "Epoch 4/15\n",
            "8/8 [==============================] - 22s 3s/step - loss: 0.1094 - accuracy: 0.9492\n",
            "Epoch 5/15\n",
            "8/8 [==============================] - 24s 3s/step - loss: 0.0464 - accuracy: 0.9833\n",
            "Epoch 6/15\n",
            "8/8 [==============================] - 21s 3s/step - loss: 0.1424 - accuracy: 0.9688\n",
            "Epoch 7/15\n",
            "8/8 [==============================] - 21s 3s/step - loss: 0.1226 - accuracy: 0.9609\n",
            "Epoch 8/15\n",
            "8/8 [==============================] - 21s 3s/step - loss: 0.1378 - accuracy: 0.9336\n",
            "Epoch 9/15\n",
            "8/8 [==============================] - 20s 2s/step - loss: 0.2692 - accuracy: 0.9167\n",
            "Epoch 10/15\n",
            "8/8 [==============================] - 21s 3s/step - loss: 0.0818 - accuracy: 0.9727\n",
            "Epoch 11/15\n",
            "8/8 [==============================] - 21s 3s/step - loss: 0.0524 - accuracy: 0.9727\n",
            "Epoch 12/15\n",
            "8/8 [==============================] - 22s 3s/step - loss: 0.0952 - accuracy: 0.9570\n",
            "Epoch 13/15\n",
            "8/8 [==============================] - 21s 3s/step - loss: 0.1407 - accuracy: 0.9453\n",
            "Epoch 14/15\n",
            "8/8 [==============================] - 21s 3s/step - loss: 0.1758 - accuracy: 0.9414\n",
            "Epoch 15/15\n",
            "8/8 [==============================] - 21s 3s/step - loss: 0.1069 - accuracy: 0.9492\n"
          ]
        }
      ]
    },
    {
      "cell_type": "code",
      "source": [
        "model.save('/content/drive/MyDrive/covid_model.h5')"
      ],
      "metadata": {
        "id": "9b2wvY7vF6Vw"
      },
      "execution_count": 119,
      "outputs": []
    },
    {
      "cell_type": "code",
      "metadata": {
        "colab": {
          "base_uri": "https://localhost:8080/"
        },
        "id": "CT6h2HK1xJBO",
        "outputId": "c2eb4688-a43c-4692-e332-8569318b347b"
      },
      "source": [
        "print(history.history.keys())"
      ],
      "execution_count": 25,
      "outputs": [
        {
          "output_type": "stream",
          "name": "stdout",
          "text": [
            "dict_keys(['loss', 'accuracy'])\n"
          ]
        }
      ]
    },
    {
      "cell_type": "code",
      "source": [
        "train_acc=max(history.history['accuracy'])\n",
        "train_loss=min(history.history['loss'])"
      ],
      "metadata": {
        "id": "zwblcAu-H9cW"
      },
      "execution_count": null,
      "outputs": []
    },
    {
      "cell_type": "code",
      "source": [
        "import pandas as pd\n",
        "df=pd.DataFrame({'model_peformance':['train_accuracy','train_loss','test_accuracy','test_loss'],\n",
        "                'Values':[train_acc,train_loss,test_acc,test_loss]})"
      ],
      "metadata": {
        "id": "94DXH5wlIAd7"
      },
      "execution_count": null,
      "outputs": []
    },
    {
      "cell_type": "code",
      "source": [
        "df"
      ],
      "metadata": {
        "id": "Ojs8VRLUIAhd"
      },
      "execution_count": null,
      "outputs": []
    },
    {
      "cell_type": "code",
      "source": [
        "import matplotlib.pyplot as plt\n",
        "import seaborn as sns"
      ],
      "metadata": {
        "id": "RUZN4X2VIJIw"
      },
      "execution_count": null,
      "outputs": []
    },
    {
      "cell_type": "code",
      "source": [
        "plt.title('Comparision of accuracy and loss values for CNN algorithm')\n",
        "sns.barplot(x='model_peformance',y='Values',data=df)"
      ],
      "metadata": {
        "id": "g_32ghJTIJVh"
      },
      "execution_count": null,
      "outputs": []
    },
    {
      "cell_type": "code",
      "metadata": {
        "id": "T_Q0Mz_x1GNX"
      },
      "source": [
        "import seaborn as sns"
      ],
      "execution_count": 26,
      "outputs": []
    },
    {
      "cell_type": "code",
      "metadata": {
        "colab": {
          "base_uri": "https://localhost:8080/",
          "height": 386
        },
        "id": "cAERBBC13rJE",
        "outputId": "1d50aac9-f083-4207-ea0c-d0abe066cba0"
      },
      "source": [
        "import seaborn as sns\n",
        "sns.set_style('whitegrid')\n",
        "fig, ax = plt.subplots()\n",
        "plt.subplot(1,2,1)\n",
        "plt.plot(history.history['accuracy'])\n",
        "fig.set_size_inches(20,6)\n",
        "plt.title('MODEL ACCURACY')\n",
        "plt.ylabel('Accuracy')\n",
        "plt.xlabel('Epoch')\n",
        "plt.legend(['train'], loc='upper left')\n",
        "plt.subplot(1,2,2)\n",
        "plt.plot(history.history['loss'])\n",
        "fig.set_size_inches(20,6)\n",
        "plt.title('MODEL LOSS')\n",
        "plt.ylabel('Loss')\n",
        "plt.xlabel('Epoch')\n",
        "plt.legend(['train'], loc='upper right')\n",
        "plt.show()"
      ],
      "execution_count": 30,
      "outputs": [
        {
          "output_type": "display_data",
          "data": {
            "image/png": "[encoded data removed]",
            "text/plain": [
              "<Figure size 1440x432 with 2 Axes>"
            ]
          },
          "metadata": {}
        }
      ]
    },
    {
      "cell_type": "code",
      "metadata": {
        "id": "MFY1nnsJ6Rna"
      },
      "source": [
        "from tensorflow.keras.applications.vgg16 import VGG16"
      ],
      "execution_count": 18,
      "outputs": []
    },
    {
      "cell_type": "code",
      "metadata": {
        "id": "NTo_i29gFjS3",
        "colab": {
          "base_uri": "https://localhost:8080/"
        },
        "outputId": "64c7f53c-28f4-45e5-8824-f6c9680814ad"
      },
      "source": [
        "base_model=VGG16(input_shape=(300,300,3),     #Shaoe of our images\n",
        "                 include_top=False,           #Leave out the last fully connected layer\n",
        "                 weights='imagenet')"
      ],
      "execution_count": 19,
      "outputs": [
        {
          "output_type": "stream",
          "name": "stdout",
          "text": [
            "Downloading data from https://storage.googleapis.com/tensorflow/keras-applications/vgg16/vgg16_weights_tf_dim_ordering_tf_kernels_notop.h5\n",
            "58892288/58889256 [==============================] - 0s 0us/step\n",
            "58900480/58889256 [==============================] - 0s 0us/step\n"
          ]
        }
      ]
    },
    {
      "cell_type": "code",
      "metadata": {
        "id": "dQs_G5C4poAP"
      },
      "source": [
        ""
      ],
      "execution_count": 40,
      "outputs": []
    },
    {
      "cell_type": "code",
      "metadata": {
        "id": "V81f5f5FGS8G"
      },
      "source": [
        "for layer in base_model.layers:\n",
        "  layer.trainable=False"
      ],
      "execution_count": 20,
      "outputs": []
    },
    {
      "cell_type": "code",
      "metadata": {
        "id": "Lnl39Ee5Tc5V"
      },
      "source": [
        "from keras import layers"
      ],
      "execution_count": 21,
      "outputs": []
    },
    {
      "cell_type": "code",
      "metadata": {
        "id": "Yqx7htqvGS_h"
      },
      "source": [
        "#Flatten the output latyer to one dimension\n",
        "x = layers.Flatten()(base_model.output)\n",
        "\n",
        "#Add a fully connected layer with 512 hidden units and ReLU activation\n",
        "x = layers.Dense(512, activation='relu')(x)\n",
        "\n",
        "#Add a dropout rate of 0.5\n",
        "x = layers.Dropout(0.5)(x)\n",
        "\n",
        "#Add a final sigmoid layer for classification\n",
        "x = layers.Dense(1, activation='sigmoid')(x)\n"
      ],
      "execution_count": 22,
      "outputs": []
    },
    {
      "cell_type": "code",
      "metadata": {
        "id": "iojXNwcbGTCO"
      },
      "source": [
        "vgg_model=tf.keras.models.Model(base_model.input, x)"
      ],
      "execution_count": 23,
      "outputs": []
    },
    {
      "cell_type": "code",
      "metadata": {
        "id": "Z8rPkcDFGTE1",
        "colab": {
          "base_uri": "https://localhost:8080/"
        },
        "outputId": "6ab0fd2d-7296-4aca-faec-4f04b8aa06be"
      },
      "source": [
        "vgg_model.compile(optimizer=tf.keras.optimizers.RMSprop(lr=0.0001), loss='binary_crossentropy',metrics=['acc'])"
      ],
      "execution_count": 24,
      "outputs": [
        {
          "output_type": "stream",
          "name": "stderr",
          "text": [
            "/usr/local/lib/python3.7/dist-packages/keras/optimizer_v2/rmsprop.py:130: UserWarning: The `lr` argument is deprecated, use `learning_rate` instead.\n",
            "  super(RMSprop, self).__init__(name, **kwargs)\n"
          ]
        }
      ]
    },
    {
      "cell_type": "code",
      "metadata": {
        "id": "Gb_0xn8SGTHq",
        "colab": {
          "base_uri": "https://localhost:8080/"
        },
        "outputId": "0c0db274-eacd-4f13-94ec-a283ae8d4299"
      },
      "source": [
        "history1=vgg_model.fit(train_generator,steps_per_epoch=8, epochs=5)"
      ],
      "execution_count": 25,
      "outputs": [
        {
          "output_type": "stream",
          "name": "stdout",
          "text": [
            "Epoch 1/5\n",
            "8/8 [==============================] - 233s 29s/step - loss: 1.1226 - acc: 0.6680\n",
            "Epoch 2/5\n",
            "8/8 [==============================] - 228s 28s/step - loss: 0.1545 - acc: 0.9492\n",
            "Epoch 3/5\n",
            "8/8 [==============================] - 253s 32s/step - loss: 0.1870 - acc: 0.9219\n",
            "Epoch 4/5\n",
            "8/8 [==============================] - 234s 29s/step - loss: 0.2471 - acc: 0.9180\n",
            "Epoch 5/5\n",
            "8/8 [==============================] - 229s 29s/step - loss: 0.1293 - acc: 0.9492\n"
          ]
        }
      ]
    },
    {
      "cell_type": "code",
      "source": [
        "vgg_model.save('/content/drive/MyDrive/uvgg_covid_model.h5')"
      ],
      "metadata": {
        "id": "UNFDXpIwIPjb"
      },
      "execution_count": 26,
      "outputs": []
    },
    {
      "cell_type": "code",
      "source": [
        "history1.history.keys()"
      ],
      "metadata": {
        "colab": {
          "base_uri": "https://localhost:8080/"
        },
        "id": "MRZvKTn0IPzD",
        "outputId": "c8291736-3224-43f4-b5c9-fb96a00f16c8"
      },
      "execution_count": 27,
      "outputs": [
        {
          "output_type": "execute_result",
          "data": {
            "text/plain": [
              "dict_keys(['loss', 'acc'])"
            ]
          },
          "metadata": {},
          "execution_count": 27
        }
      ]
    },
    {
      "cell_type": "code",
      "source": [
        "tr_acc=max(history1.history['acc'])\n",
        "tr_loss=min(history1.history['loss'])"
      ],
      "metadata": {
        "id": "f-ea1UoaIQAb"
      },
      "execution_count": 29,
      "outputs": []
    },
    {
      "cell_type": "code",
      "source": [
        "import pandas as pd\n",
        "df1=pd.DataFrame({'model_peformance':['train_accuracy','train_loss'],\n",
        "                'Values':[tr_acc,tr_loss]})"
      ],
      "metadata": {
        "id": "hKqeGFdtIQNS"
      },
      "execution_count": 31,
      "outputs": []
    },
    {
      "cell_type": "code",
      "source": [
        "df1"
      ],
      "metadata": {
        "colab": {
          "base_uri": "https://localhost:8080/",
          "height": 112
        },
        "id": "LW0bcFvqIQbf",
        "outputId": "9ca155b9-4590-4633-e472-2884e414b06a"
      },
      "execution_count": 32,
      "outputs": [
        {
          "output_type": "execute_result",
          "data": {
            "text/html": [
              "\n",
              "  <div id=\"df-3c1c1c35-a207-4c58-99e8-1b6a204227f5\">\n",
              "    <div class=\"colab-df-container\">\n",
              "      <div>\n",
              "<style scoped>\n",
              "    .dataframe tbody tr th:only-of-type {\n",
              "        vertical-align: middle;\n",
              "    }\n",
              "\n",
              "    .dataframe tbody tr th {\n",
              "        vertical-align: top;\n",
              "    }\n",
              "\n",
              "    .dataframe thead th {\n",
              "        text-align: right;\n",
              "    }\n",
              "</style>\n",
              "<table border=\"1\" class=\"dataframe\">\n",
              "  <thead>\n",
              "    <tr style=\"text-align: right;\">\n",
              "      <th></th>\n",
              "      <th>model_peformance</th>\n",
              "      <th>Values</th>\n",
              "    </tr>\n",
              "  </thead>\n",
              "  <tbody>\n",
              "    <tr>\n",
              "      <th>0</th>\n",
              "      <td>train_accuracy</td>\n",
              "      <td>0.949219</td>\n",
              "    </tr>\n",
              "    <tr>\n",
              "      <th>1</th>\n",
              "      <td>train_loss</td>\n",
              "      <td>0.129313</td>\n",
              "    </tr>\n",
              "  </tbody>\n",
              "</table>\n",
              "</div>\n",
              "      <button class=\"colab-df-convert\" onclick=\"convertToInteractive('df-3c1c1c35-a207-4c58-99e8-1b6a204227f5')\"\n",
              "              title=\"Convert this dataframe to an interactive table.\"\n",
              "              style=\"display:none;\">\n",
              "        \n",
              "  <svg xmlns=\"http://www.w3.org/2000/svg\" height=\"24px\"viewBox=\"0 0 24 24\"\n",
              "       width=\"24px\">\n",
              "    <path d=\"M0 0h24v24H0V0z\" fill=\"none\"/>\n",
              "    <path d=\"M18.56 5.44l.94 2.06.94-2.06 2.06-.94-2.06-.94-.94-2.06-.94 2.06-2.06.94zm-11 1L8.5 8.5l.94-2.06 2.06-.94-2.06-.94L8.5 2.5l-.94 2.06-2.06.94zm10 10l.94 2.06.94-2.06 2.06-.94-2.06-.94-.94-2.06-.94 2.06-2.06.94z\"/><path d=\"M17.41 7.96l-1.37-1.37c-.4-.4-.92-.59-1.43-.59-.52 0-1.04.2-1.43.59L10.3 9.45l-7.72 7.72c-.78.78-.78 2.05 0 2.83L4 21.41c.39.39.9.59 1.41.59.51 0 1.02-.2 1.41-.59l7.78-7.78 2.81-2.81c.8-.78.8-2.07 0-2.86zM5.41 20L4 18.59l7.72-7.72 1.47 1.35L5.41 20z\"/>\n",
              "  </svg>\n",
              "      </button>\n",
              "      \n",
              "  <style>\n",
              "    .colab-df-container {\n",
              "      display:flex;\n",
              "      flex-wrap:wrap;\n",
              "      gap: 12px;\n",
              "    }\n",
              "\n",
              "    .colab-df-convert {\n",
              "      background-color: #E8F0FE;\n",
              "      border: none;\n",
              "      border-radius: 50%;\n",
              "      cursor: pointer;\n",
              "      display: none;\n",
              "      fill: #1967D2;\n",
              "      height: 32px;\n",
              "      padding: 0 0 0 0;\n",
              "      width: 32px;\n",
              "    }\n",
              "\n",
              "    .colab-df-convert:hover {\n",
              "      background-color: #E2EBFA;\n",
              "      box-shadow: 0px 1px 2px rgba(60, 64, 67, 0.3), 0px 1px 3px 1px rgba(60, 64, 67, 0.15);\n",
              "      fill: #174EA6;\n",
              "    }\n",
              "\n",
              "    [theme=dark] .colab-df-convert {\n",
              "      background-color: #3B4455;\n",
              "      fill: #D2E3FC;\n",
              "    }\n",
              "\n",
              "    [theme=dark] .colab-df-convert:hover {\n",
              "      background-color: #434B5C;\n",
              "      box-shadow: 0px 1px 3px 1px rgba(0, 0, 0, 0.15);\n",
              "      filter: drop-shadow(0px 1px 2px rgba(0, 0, 0, 0.3));\n",
              "      fill: #FFFFFF;\n",
              "    }\n",
              "  </style>\n",
              "\n",
              "      <script>\n",
              "        const buttonEl =\n",
              "          document.querySelector('#df-3c1c1c35-a207-4c58-99e8-1b6a204227f5 button.colab-df-convert');\n",
              "        buttonEl.style.display =\n",
              "          google.colab.kernel.accessAllowed ? 'block' : 'none';\n",
              "\n",
              "        async function convertToInteractive(key) {\n",
              "          const element = document.querySelector('#df-3c1c1c35-a207-4c58-99e8-1b6a204227f5');\n",
              "          const dataTable =\n",
              "            await google.colab.kernel.invokeFunction('convertToInteractive',\n",
              "                                                     [key], {});\n",
              "          if (!dataTable) return;\n",
              "\n",
              "          const docLinkHtml = 'Like what you see? Visit the ' +\n",
              "            '<a target=\"_blank\" href=https://colab.research.google.com/notebooks/data_table.ipynb>data table notebook</a>'\n",
              "            + ' to learn more about interactive tables.';\n",
              "          element.innerHTML = '';\n",
              "          dataTable['output_type'] = 'display_data';\n",
              "          await google.colab.output.renderOutput(dataTable, element);\n",
              "          const docLink = document.createElement('div');\n",
              "          docLink.innerHTML = docLinkHtml;\n",
              "          element.appendChild(docLink);\n",
              "        }\n",
              "      </script>\n",
              "    </div>\n",
              "  </div>\n",
              "  "
            ],
            "text/plain": [
              "  model_peformance    Values\n",
              "0   train_accuracy  0.949219\n",
              "1       train_loss  0.129313"
            ]
          },
          "metadata": {},
          "execution_count": 32
        }
      ]
    },
    {
      "cell_type": "code",
      "source": [
        "plt.title('Comparision of accuracy and loss values for vgg16 algorithm')\n",
        "sns.barplot(x='model_peformance',y='Values',data=df1)"
      ],
      "metadata": {
        "colab": {
          "base_uri": "https://localhost:8080/",
          "height": 314
        },
        "id": "JIQvm13XIy-T",
        "outputId": "2d503c08-6e68-4f8e-80cf-c61e507abdae"
      },
      "execution_count": 50,
      "outputs": [
        {
          "output_type": "execute_result",
          "data": {
            "text/plain": [
              "<matplotlib.axes._subplots.AxesSubplot at 0x7fbc0d3a6c90>"
            ]
          },
          "metadata": {},
          "execution_count": 50
        },
        {
          "output_type": "display_data",
          "data": {
            "image/png": "[encoded data removed]",
            "text/plain": [
              "<Figure size 432x288 with 1 Axes>"
            ]
          },
          "metadata": {}
        }
      ]
    },
    {
      "cell_type": "code",
      "metadata": {
        "colab": {
          "base_uri": "https://localhost:8080/",
          "height": 384
        },
        "id": "9-m5pXheZcRv",
        "outputId": "2990a3ee-c95e-477c-efea-51be598fc333"
      },
      "source": [
        "import seaborn as sns\n",
        "sns.set_style('whitegrid')\n",
        "fig, ax = plt.subplots()\n",
        "plt.subplot(1,2,1)\n",
        "plt.plot(history1.history['acc'])\n",
        "fig.set_size_inches(20,6)\n",
        "plt.title('MODEL ACCURACY')\n",
        "plt.ylabel('Accuracy')\n",
        "plt.xlabel('Epoch')\n",
        "plt.legend(['train'], loc='upper left')\n",
        "plt.subplot(1,2,2)\n",
        "plt.plot(history1.history['loss'])\n",
        "fig.set_size_inches(20,6)\n",
        "plt.title('MODEL LOSS')\n",
        "plt.ylabel('Loss')\n",
        "plt.xlabel('Epoch')\n",
        "plt.legend(['train'], loc='upper right')\n",
        "plt.show()"
      ],
      "execution_count": 34,
      "outputs": [
        {
          "output_type": "display_data",
          "data": {
            "image/png": "[encoded data removed]",
            "text/plain": [
              "<Figure size 1440x432 with 2 Axes>"
            ]
          },
          "metadata": {}
        }
      ]
    },
    {
      "cell_type": "code",
      "metadata": {
        "id": "Qp8zZlGxGTKc"
      },
      "source": [
        "from tensorflow.keras.applications.inception_v3 import InceptionV3"
      ],
      "execution_count": 35,
      "outputs": []
    },
    {
      "cell_type": "code",
      "metadata": {
        "id": "EZxnKuNnGTPi",
        "colab": {
          "base_uri": "https://localhost:8080/"
        },
        "outputId": "f9f70cfc-007c-4876-f1eb-3fbef0c47762"
      },
      "source": [
        "base_model1=InceptionV3(input_shape=(300,300,3), include_top=False, weights='imagenet')"
      ],
      "execution_count": 36,
      "outputs": [
        {
          "output_type": "stream",
          "name": "stdout",
          "text": [
            "Downloading data from https://storage.googleapis.com/tensorflow/keras-applications/inception_v3/inception_v3_weights_tf_dim_ordering_tf_kernels_notop.h5\n",
            "87916544/87910968 [==============================] - 0s 0us/step\n",
            "87924736/87910968 [==============================] - 0s 0us/step\n"
          ]
        }
      ]
    },
    {
      "cell_type": "code",
      "metadata": {
        "id": "nV0onQNpXEqA"
      },
      "source": [
        "for layer in base_model.layers:\n",
        "  layer.trainable=False"
      ],
      "execution_count": 37,
      "outputs": []
    },
    {
      "cell_type": "code",
      "metadata": {
        "id": "jIDRLKLiXEtE"
      },
      "source": [
        "from tensorflow.keras.optimizers import RMSprop"
      ],
      "execution_count": 38,
      "outputs": []
    },
    {
      "cell_type": "code",
      "metadata": {
        "id": "8LXtHIY1Y0DB"
      },
      "source": [
        "from keras import layers"
      ],
      "execution_count": 39,
      "outputs": []
    },
    {
      "cell_type": "code",
      "metadata": {
        "id": "U3GwvTmdXEvw"
      },
      "source": [
        "x=layers.Flatten()(base_model1.output)\n",
        "x=layers.Dense(1024,activation='relu')(x)\n",
        "x=layers.Dropout(0.2)(x)\n",
        "x=layers.Dense(1,activation='sigmoid')(x)"
      ],
      "execution_count": 40,
      "outputs": []
    },
    {
      "cell_type": "code",
      "metadata": {
        "id": "qRMEv7G4XEyG"
      },
      "source": [
        "model2=tf.keras.models.Model(base_model1.input,x)"
      ],
      "execution_count": 41,
      "outputs": []
    },
    {
      "cell_type": "code",
      "metadata": {
        "id": "sjWv4_U3XE4N",
        "colab": {
          "base_uri": "https://localhost:8080/"
        },
        "outputId": "8f2ee76c-6f64-4e0d-8be3-30d5fcbee360"
      },
      "source": [
        "model2.compile(optimizer=RMSprop(lr=0.0001), loss='binary_crossentropy',metrics=['acc'])"
      ],
      "execution_count": 42,
      "outputs": [
        {
          "output_type": "stream",
          "name": "stderr",
          "text": [
            "/usr/local/lib/python3.7/dist-packages/keras/optimizer_v2/rmsprop.py:130: UserWarning: The `lr` argument is deprecated, use `learning_rate` instead.\n",
            "  super(RMSprop, self).__init__(name, **kwargs)\n"
          ]
        }
      ]
    },
    {
      "cell_type": "code",
      "metadata": {
        "colab": {
          "base_uri": "https://localhost:8080/"
        },
        "id": "5SQ7oFDCXE6_",
        "outputId": "003da9dc-fe85-4f7a-d454-1526a4f9a5f1"
      },
      "source": [
        "history2=model2.fit_generator(train_generator,steps_per_epoch=8,epochs=10)"
      ],
      "execution_count": 52,
      "outputs": [
        {
          "output_type": "stream",
          "name": "stderr",
          "text": [
            "/usr/local/lib/python3.7/dist-packages/ipykernel_launcher.py:1: UserWarning: `Model.fit_generator` is deprecated and will be removed in a future version. Please use `Model.fit`, which supports generators.\n",
            "  \"\"\"Entry point for launching an IPython kernel.\n"
          ]
        },
        {
          "output_type": "stream",
          "name": "stdout",
          "text": [
            "Epoch 1/10\n",
            "8/8 [==============================] - 247s 30s/step - loss: 0.1153 - acc: 0.9609\n",
            "Epoch 2/10\n",
            "8/8 [==============================] - 244s 30s/step - loss: 0.1379 - acc: 0.9570\n",
            "Epoch 3/10\n",
            "8/8 [==============================] - 248s 31s/step - loss: 0.0770 - acc: 0.9688\n",
            "Epoch 4/10\n",
            "8/8 [==============================] - 244s 30s/step - loss: 0.0256 - acc: 0.9883\n",
            "Epoch 5/10\n",
            "8/8 [==============================] - 235s 29s/step - loss: 0.0269 - acc: 0.9917\n",
            "Epoch 6/10\n",
            "8/8 [==============================] - 243s 30s/step - loss: 0.0653 - acc: 0.9727\n",
            "Epoch 7/10\n",
            "8/8 [==============================] - 250s 31s/step - loss: 0.2600 - acc: 0.9531\n",
            "Epoch 8/10\n",
            "8/8 [==============================] - 246s 31s/step - loss: 0.0441 - acc: 0.9922\n",
            "Epoch 9/10\n",
            "8/8 [==============================] - 229s 28s/step - loss: 0.0291 - acc: 0.9875\n",
            "Epoch 10/10\n",
            "8/8 [==============================] - 251s 31s/step - loss: 0.0721 - acc: 0.9883\n"
          ]
        }
      ]
    },
    {
      "cell_type": "code",
      "source": [
        "model2.save('/content/drive/MyDrive/uincep_covid_model.h5')"
      ],
      "metadata": {
        "id": "Wn0HaQGCQTBf"
      },
      "execution_count": 53,
      "outputs": []
    },
    {
      "cell_type": "code",
      "source": [
        "history2.history.keys()"
      ],
      "metadata": {
        "colab": {
          "base_uri": "https://localhost:8080/"
        },
        "id": "dIpaYTo2REhO",
        "outputId": "799746a6-44bd-4cb3-86a1-4ee33654271f"
      },
      "execution_count": 46,
      "outputs": [
        {
          "output_type": "execute_result",
          "data": {
            "text/plain": [
              "dict_keys(['loss', 'acc'])"
            ]
          },
          "metadata": {},
          "execution_count": 46
        }
      ]
    },
    {
      "cell_type": "code",
      "source": [
        "tr_incep_acc=max(history1.history['acc'])\n",
        "tr_incep_loss=min(history1.history['loss'])"
      ],
      "metadata": {
        "id": "7EFBdTS4REj2"
      },
      "execution_count": 47,
      "outputs": []
    },
    {
      "cell_type": "code",
      "source": [
        "import pandas as pd\n",
        "df2=pd.DataFrame({'model_peformance':['train_accuracy','train_loss'],\n",
        "                'Values':[tr_incep_acc,tr_incep_loss]})"
      ],
      "metadata": {
        "id": "jqenG2JNREm2"
      },
      "execution_count": 48,
      "outputs": []
    },
    {
      "cell_type": "code",
      "source": [
        "df2"
      ],
      "metadata": {
        "colab": {
          "base_uri": "https://localhost:8080/",
          "height": 112
        },
        "id": "hx5X_DqQREpf",
        "outputId": "563fb345-001d-4bc1-b092-1d613c1de9d1"
      },
      "execution_count": 49,
      "outputs": [
        {
          "output_type": "execute_result",
          "data": {
            "text/html": [
              "\n",
              "  <div id=\"df-2d99447f-4773-48b3-a7be-5ea26d62a006\">\n",
              "    <div class=\"colab-df-container\">\n",
              "      <div>\n",
              "<style scoped>\n",
              "    .dataframe tbody tr th:only-of-type {\n",
              "        vertical-align: middle;\n",
              "    }\n",
              "\n",
              "    .dataframe tbody tr th {\n",
              "        vertical-align: top;\n",
              "    }\n",
              "\n",
              "    .dataframe thead th {\n",
              "        text-align: right;\n",
              "    }\n",
              "</style>\n",
              "<table border=\"1\" class=\"dataframe\">\n",
              "  <thead>\n",
              "    <tr style=\"text-align: right;\">\n",
              "      <th></th>\n",
              "      <th>model_peformance</th>\n",
              "      <th>Values</th>\n",
              "    </tr>\n",
              "  </thead>\n",
              "  <tbody>\n",
              "    <tr>\n",
              "      <th>0</th>\n",
              "      <td>train_accuracy</td>\n",
              "      <td>0.949219</td>\n",
              "    </tr>\n",
              "    <tr>\n",
              "      <th>1</th>\n",
              "      <td>train_loss</td>\n",
              "      <td>0.129313</td>\n",
              "    </tr>\n",
              "  </tbody>\n",
              "</table>\n",
              "</div>\n",
              "      <button class=\"colab-df-convert\" onclick=\"convertToInteractive('df-2d99447f-4773-48b3-a7be-5ea26d62a006')\"\n",
              "              title=\"Convert this dataframe to an interactive table.\"\n",
              "              style=\"display:none;\">\n",
              "        \n",
              "  <svg xmlns=\"http://www.w3.org/2000/svg\" height=\"24px\"viewBox=\"0 0 24 24\"\n",
              "       width=\"24px\">\n",
              "    <path d=\"M0 0h24v24H0V0z\" fill=\"none\"/>\n",
              "    <path d=\"M18.56 5.44l.94 2.06.94-2.06 2.06-.94-2.06-.94-.94-2.06-.94 2.06-2.06.94zm-11 1L8.5 8.5l.94-2.06 2.06-.94-2.06-.94L8.5 2.5l-.94 2.06-2.06.94zm10 10l.94 2.06.94-2.06 2.06-.94-2.06-.94-.94-2.06-.94 2.06-2.06.94z\"/><path d=\"M17.41 7.96l-1.37-1.37c-.4-.4-.92-.59-1.43-.59-.52 0-1.04.2-1.43.59L10.3 9.45l-7.72 7.72c-.78.78-.78 2.05 0 2.83L4 21.41c.39.39.9.59 1.41.59.51 0 1.02-.2 1.41-.59l7.78-7.78 2.81-2.81c.8-.78.8-2.07 0-2.86zM5.41 20L4 18.59l7.72-7.72 1.47 1.35L5.41 20z\"/>\n",
              "  </svg>\n",
              "      </button>\n",
              "      \n",
              "  <style>\n",
              "    .colab-df-container {\n",
              "      display:flex;\n",
              "      flex-wrap:wrap;\n",
              "      gap: 12px;\n",
              "    }\n",
              "\n",
              "    .colab-df-convert {\n",
              "      background-color: #E8F0FE;\n",
              "      border: none;\n",
              "      border-radius: 50%;\n",
              "      cursor: pointer;\n",
              "      display: none;\n",
              "      fill: #1967D2;\n",
              "      height: 32px;\n",
              "      padding: 0 0 0 0;\n",
              "      width: 32px;\n",
              "    }\n",
              "\n",
              "    .colab-df-convert:hover {\n",
              "      background-color: #E2EBFA;\n",
              "      box-shadow: 0px 1px 2px rgba(60, 64, 67, 0.3), 0px 1px 3px 1px rgba(60, 64, 67, 0.15);\n",
              "      fill: #174EA6;\n",
              "    }\n",
              "\n",
              "    [theme=dark] .colab-df-convert {\n",
              "      background-color: #3B4455;\n",
              "      fill: #D2E3FC;\n",
              "    }\n",
              "\n",
              "    [theme=dark] .colab-df-convert:hover {\n",
              "      background-color: #434B5C;\n",
              "      box-shadow: 0px 1px 3px 1px rgba(0, 0, 0, 0.15);\n",
              "      filter: drop-shadow(0px 1px 2px rgba(0, 0, 0, 0.3));\n",
              "      fill: #FFFFFF;\n",
              "    }\n",
              "  </style>\n",
              "\n",
              "      <script>\n",
              "        const buttonEl =\n",
              "          document.querySelector('#df-2d99447f-4773-48b3-a7be-5ea26d62a006 button.colab-df-convert');\n",
              "        buttonEl.style.display =\n",
              "          google.colab.kernel.accessAllowed ? 'block' : 'none';\n",
              "\n",
              "        async function convertToInteractive(key) {\n",
              "          const element = document.querySelector('#df-2d99447f-4773-48b3-a7be-5ea26d62a006');\n",
              "          const dataTable =\n",
              "            await google.colab.kernel.invokeFunction('convertToInteractive',\n",
              "                                                     [key], {});\n",
              "          if (!dataTable) return;\n",
              "\n",
              "          const docLinkHtml = 'Like what you see? Visit the ' +\n",
              "            '<a target=\"_blank\" href=https://colab.research.google.com/notebooks/data_table.ipynb>data table notebook</a>'\n",
              "            + ' to learn more about interactive tables.';\n",
              "          element.innerHTML = '';\n",
              "          dataTable['output_type'] = 'display_data';\n",
              "          await google.colab.output.renderOutput(dataTable, element);\n",
              "          const docLink = document.createElement('div');\n",
              "          docLink.innerHTML = docLinkHtml;\n",
              "          element.appendChild(docLink);\n",
              "        }\n",
              "      </script>\n",
              "    </div>\n",
              "  </div>\n",
              "  "
            ],
            "text/plain": [
              "  model_peformance    Values\n",
              "0   train_accuracy  0.949219\n",
              "1       train_loss  0.129313"
            ]
          },
          "metadata": {},
          "execution_count": 49
        }
      ]
    },
    {
      "cell_type": "code",
      "source": [
        "plt.title('Comparision of accuracy and loss values for resnet50 algorithm')\n",
        "sns.barplot(x='model_peformance',y='Values',data=df2)"
      ],
      "metadata": {
        "colab": {
          "base_uri": "https://localhost:8080/",
          "height": 314
        },
        "id": "F-9lk6nTREsi",
        "outputId": "b5f4951d-9945-40fb-cbb9-59cfa1476d77"
      },
      "execution_count": 51,
      "outputs": [
        {
          "output_type": "execute_result",
          "data": {
            "text/plain": [
              "<matplotlib.axes._subplots.AxesSubplot at 0x7fbc0d2ad290>"
            ]
          },
          "metadata": {},
          "execution_count": 51
        },
        {
          "output_type": "display_data",
          "data": {
            "image/png": "[encoded data removed]",
            "text/plain": [
              "<Figure size 432x288 with 1 Axes>"
            ]
          },
          "metadata": {}
        }
      ]
    },
    {
      "cell_type": "code",
      "metadata": {
        "colab": {
          "base_uri": "https://localhost:8080/",
          "height": 384
        },
        "id": "KU_Ji0RBXE9t",
        "outputId": "45fdfda3-ba72-4519-f2bf-1ecf3c3687d0"
      },
      "source": [
        "import seaborn as sns\n",
        "sns.set_style('whitegrid')\n",
        "fig, ax = plt.subplots()\n",
        "plt.subplot(1,2,1)\n",
        "plt.plot(history2.history['acc'])\n",
        "fig.set_size_inches(20,6)\n",
        "plt.title('MODEL ACCURACY')\n",
        "plt.ylabel('Accuracy')\n",
        "plt.xlabel('Epoch')\n",
        "plt.legend(['train'], loc='upper left')\n",
        "plt.subplot(1,2,2)\n",
        "plt.plot(history2.history['loss'])\n",
        "fig.set_size_inches(20,6)\n",
        "plt.title('MODEL LOSS')\n",
        "plt.ylabel('Loss')\n",
        "plt.xlabel('Epoch')\n",
        "plt.legend(['train'], loc='upper right')\n",
        "plt.show()"
      ],
      "execution_count": 45,
      "outputs": [
        {
          "output_type": "display_data",
          "data": {
            "image/png": "[encoded data removed]",
            "text/plain": [
              "<Figure size 1440x432 with 2 Axes>"
            ]
          },
          "metadata": {}
        }
      ]
    }
  ]
}