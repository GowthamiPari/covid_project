{
  "nbformat": 4,
  "nbformat_minor": 0,
  "metadata": {
    "colab": {
      "name": "Untitled2.ipynb",
      "provenance": []
    },
    "kernelspec": {
      "name": "python3",
      "display_name": "Python 3"
    },
    "language_info": {
      "name": "python"
    }
  },
  "cells": [
    {
      "cell_type": "code",
      "execution_count": 1,
      "metadata": {
        "id": "j1ceUSxQt6tO"
      },
      "outputs": [],
      "source": [
        "from keras.models import load_model"
      ]
    },
    {
      "cell_type": "code",
      "source": [
        "saved_model = load_model(\"/content/drive/MyDrive/covid_model.h5\")"
      ],
      "metadata": {
        "id": "lihfq5BGt93T"
      },
      "execution_count": 43,
      "outputs": []
    },
    {
      "cell_type": "code",
      "source": [
        "pip install gtts"
      ],
      "metadata": {
        "colab": {
          "base_uri": "https://localhost:8080/"
        },
        "id": "pCOMirCxuKrN",
        "outputId": "f7f2942d-605e-4916-e13c-9d8b34499794"
      },
      "execution_count": 3,
      "outputs": [
        {
          "output_type": "stream",
          "name": "stdout",
          "text": [
            "Collecting gtts\n",
            "  Downloading gTTS-2.2.3-py3-none-any.whl (25 kB)\n",
            "Requirement already satisfied: six in /usr/local/lib/python3.7/dist-packages (from gtts) (1.15.0)\n",
            "Requirement already satisfied: requests in /usr/local/lib/python3.7/dist-packages (from gtts) (2.23.0)\n",
            "Requirement already satisfied: click in /usr/local/lib/python3.7/dist-packages (from gtts) (7.1.2)\n",
            "Requirement already satisfied: idna<3,>=2.5 in /usr/local/lib/python3.7/dist-packages (from requests->gtts) (2.10)\n",
            "Requirement already satisfied: urllib3!=1.25.0,!=1.25.1,<1.26,>=1.21.1 in /usr/local/lib/python3.7/dist-packages (from requests->gtts) (1.24.3)\n",
            "Requirement already satisfied: certifi>=2017.4.17 in /usr/local/lib/python3.7/dist-packages (from requests->gtts) (2021.10.8)\n",
            "Requirement already satisfied: chardet<4,>=3.0.2 in /usr/local/lib/python3.7/dist-packages (from requests->gtts) (3.0.4)\n",
            "Installing collected packages: gtts\n",
            "Successfully installed gtts-2.2.3\n"
          ]
        }
      ]
    },
    {
      "cell_type": "code",
      "source": [
        "import numpy as np\n",
        "from google.colab import files\n",
        "from keras.preprocessing import image\n",
        "from gtts import gTTS\n",
        "from IPython.display import Audio\n",
        "import matplotlib.pyplot as plt\n",
        "from tensorflow.python.keras import backend as K"
      ],
      "metadata": {
        "id": "5UGb_s4WuQQc"
      },
      "execution_count": 4,
      "outputs": []
    },
    {
      "cell_type": "code",
      "source": [
        "saved_model1 = load_model(\"/content/drive/MyDrive/uvgg_covid_model.h5\")"
      ],
      "metadata": {
        "id": "LmY5yjbPS8oa"
      },
      "execution_count": 11,
      "outputs": []
    },
    {
      "cell_type": "code",
      "metadata": {
        "id": "IG3kNra2hfMB",
        "outputId": "8674687a-4dc5-4a8f-c593-b3381fd4d452",
        "colab": {
          "resources": {
            "http://localhost:8080/nbextensions/google.colab/files.js": {
              "data": "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",
              "ok": true,
              "headers": [
                [
                  "content-type",
                  "application/javascript"
                ]
              ],
              "status": 200,
              "status_text": ""
            }
          },
          "base_uri": "https://localhost:8080/",
          "height": 167
        }
      },
      "source": [
        "uploaded=files.upload()\n",
        "\n",
        "for fn in uploaded.keys():\n",
        "\n",
        "  #Predicting images\n",
        "  path = '/content/' + fn\n",
        "  img = image.load_img(path, target_size=(300,300))\n",
        "  x = image.img_to_array(img)\n",
        "  x = np.expand_dims(x, axis=0)\n",
        "\n",
        "  images = np.vstack([x])\n",
        "  classes=saved_model.predict(images, batch_size=10)\n",
        "  print(classes[0])\n",
        "  if classes[0]==0:\n",
        "    print(fn + \"is Covid\")\n",
        "    tts = gTTS('Patient was suffering from covid') #Provide the string to convert to speech\n",
        "    tts.save('1.wav') #save the string converted to speech as a .wav file\n",
        "    sound_file = '1.wav'\n",
        "    Audio(sound_file, autoplay=True)\n",
        "  else:\n",
        "    print(fn + \"is Normal\")\n",
        "    tts = gTTS('Patient was normal') #Provide the string to convert to speech\n",
        "    tts.save('1.wav') #save the string converted to speech as a .wav file\n",
        "    sound_file = '1.wav'\n",
        "    Audio(sound_file, autoplay=True)\n",
        "\n",
        "Audio(sound_file, autoplay=True)"
      ],
      "execution_count": 46,
      "outputs": [
        {
          "output_type": "display_data",
          "data": {
            "text/html": [
              "\n",
              "     <input type=\"file\" id=\"files-969974af-2b94-4e3b-b2f5-2e17d6bf3eb4\" name=\"files[]\" multiple disabled\n",
              "        style=\"border:none\" />\n",
              "     <output id=\"result-969974af-2b94-4e3b-b2f5-2e17d6bf3eb4\">\n",
              "      Upload widget is only available when the cell has been executed in the\n",
              "      current browser session. Please rerun this cell to enable.\n",
              "      </output>\n",
              "      <script src=\"/nbextensions/google.colab/files.js\"></script> "
            ],
            "text/plain": [
              "<IPython.core.display.HTML object>"
            ]
          },
          "metadata": {}
        },
        {
          "output_type": "stream",
          "name": "stdout",
          "text": [
            "Saving COVID-1.png to COVID-1.png\n",
            "[0.]\n",
            "COVID-1.pngis Covid\n"
          ]
        },
        {
          "output_type": "execute_result",
          "data": {
            "text/html": [
              "\n",
              "                <audio controls=\"controls\" autoplay=\"autoplay\">\n",
              "                    <source src=\"data:audio/x-wav;base64,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\" type=\"audio/x-wav\" />\n",
              "                    Your browser does not support the audio element.\n",
              "                </audio>\n",
              "              "
            ],
            "text/plain": [
              "<IPython.lib.display.Audio object>"
            ]
          },
          "metadata": {},
          "execution_count": 46
        }
      ]
    },
    {
      "cell_type": "code",
      "source": [
        ""
      ],
      "metadata": {
        "id": "jHHMp6jhUFu4"
      },
      "execution_count": null,
      "outputs": []
    }
  ]
}